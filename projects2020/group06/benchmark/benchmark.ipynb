{
 "cells": [
  {
   "cell_type": "code",
   "execution_count": 1,
   "metadata": {},
   "outputs": [],
   "source": [
    "import sys\n",
    "sys.path.append('../src')"
   ]
  },
  {
   "cell_type": "code",
   "execution_count": 2,
   "metadata": {},
   "outputs": [],
   "source": [
    "import numpy as np\n",
    "import matplotlib.pyplot as plt"
   ]
  },
  {
   "cell_type": "code",
   "execution_count": 3,
   "metadata": {},
   "outputs": [],
   "source": [
    "%matplotlib inline\n",
    "%load_ext autoreload\n",
    "%autoreload 2"
   ]
  },
  {
   "cell_type": "code",
   "execution_count": 4,
   "metadata": {},
   "outputs": [],
   "source": [
    "from heat3d_np import heat3d_np\n",
    "from heat3d_cp import heat3d_cp"
   ]
  },
  {
   "cell_type": "code",
   "execution_count": 5,
   "metadata": {},
   "outputs": [],
   "source": [
    "from heat3d_devito import heat3d_devito\n",
    "from heat3d_gt4py import heat3d_gt4py"
   ]
  },
  {
   "cell_type": "code",
   "execution_count": null,
   "metadata": {},
   "outputs": [],
   "source": []
  },
  {
   "cell_type": "code",
   "execution_count": 6,
   "metadata": {},
   "outputs": [],
   "source": [
    "# global const\n",
    "alpha = 19.\n",
    "Tcool, Thot = 300., 400."
   ]
  },
  {
   "cell_type": "code",
   "execution_count": 7,
   "metadata": {},
   "outputs": [
    {
     "data": {
      "text/plain": [
       "0.13631552550941706"
      ]
     },
     "execution_count": 7,
     "metadata": {},
     "output_type": "execute_result"
    }
   ],
   "source": [
    "nx = ny = nz = 8\n",
    "nt = 8\n",
    "\n",
    "x = y = z = 2.\n",
    "dx = dy = dz = x / (nx - 1)\n",
    "\n",
    "dt = alpha/10000 * (1/dx**2 + 1/dy**2 + 1/dz**2)**(-1)\n",
    "\n",
    "in_field = Tcool*np.ones((nx,ny,nz))\n",
    "in_field[nx//4:3*nx//4, ny//4:3*ny//4, nz//4:3*nz//4] = Thot\n",
    "\n",
    "heat3d_gt4py(in_field, alpha, Tcool, dx, dy, dz, dt, nt, backend='gtcuda', result='time')"
   ]
  },
  {
   "cell_type": "code",
   "execution_count": 8,
   "metadata": {},
   "outputs": [],
   "source": [
    "def benchmark(nx, nt=nt, gpu=False):\n",
    "    ny = nx\n",
    "    nz = nx\n",
    "    #print(f'{nx} x {ny} x {nz}')\n",
    "    \n",
    "    in_field = Tcool*np.ones((nx,ny,nz))\n",
    "    in_field[nx//4:3*nx//4, ny//4:3*ny//4, nz//4:3*nz//4] = Thot\n",
    "\n",
    "    if gpu == True:\n",
    "        time_cp = heat3d_cp(alpha, Tcool, Thot, dx, dy, dz, dt, nx, ny, nz, nt, result='time')\n",
    "        time_devito_gpu = heat3d_devito(in_field, alpha, Tcool, dt, nt, platform='nvidiaX', result='time')\n",
    "        time_gt4py_gpu = heat3d_gt4py(in_field, alpha, Tcool, dx, dy, dz, dt, nt, backend='gtcuda', result='time')\n",
    "\n",
    "        return time_cp, time_devito_gpu, time_gt4py_gpu\n",
    "\n",
    "    else:\n",
    "        time_np = heat3d_np(in_field, alpha, Tcool, dx, dy, dz, dt, nt, result='time')    \n",
    "        time_devito = heat3d_devito(in_field, alpha, Tcool, dt, nt, result='time')\n",
    "        time_gt4py = heat3d_gt4py(in_field, alpha, Tcool, dx, dy, dz, dt, nt, backend='gtx86', result='time')\n",
    "\n",
    "        return time_np, time_devito, time_gt4py    "
   ]
  },
  {
   "cell_type": "code",
   "execution_count": 9,
   "metadata": {},
   "outputs": [
    {
     "name": "stderr",
     "output_type": "stream",
     "text": [
      "Operator `Kernel` run in 0.01 s\n"
     ]
    },
    {
     "data": {
      "text/plain": [
       "(0.00038439687341451645, 0.7290430096909404, 0.017455337569117546)"
      ]
     },
     "execution_count": 9,
     "metadata": {},
     "output_type": "execute_result"
    }
   ],
   "source": [
    "benchmark(8)"
   ]
  },
  {
   "cell_type": "code",
   "execution_count": 10,
   "metadata": {},
   "outputs": [
    {
     "name": "stderr",
     "output_type": "stream",
     "text": [
      "Operator `Kernel` run in 0.02 s\n"
     ]
    },
    {
     "data": {
      "text/plain": [
       "(0.005598869174718857, 0.631690863519907, 0.005832514725625515)"
      ]
     },
     "execution_count": 10,
     "metadata": {},
     "output_type": "execute_result"
    }
   ],
   "source": [
    "benchmark(8, gpu=True)"
   ]
  },
  {
   "cell_type": "code",
   "execution_count": 11,
   "metadata": {},
   "outputs": [
    {
     "data": {
      "text/plain": [
       "[8, 16, 32, 64, 128, 256, 512]"
      ]
     },
     "execution_count": 11,
     "metadata": {},
     "output_type": "execute_result"
    }
   ],
   "source": [
    "x = []\n",
    "for n in range(3, 9+1):\n",
    "    x.append(2 ** n)\n",
    "x"
   ]
  },
  {
   "cell_type": "code",
   "execution_count": 12,
   "metadata": {},
   "outputs": [
    {
     "name": "stdout",
     "output_type": "stream",
     "text": [
      "nx = 8\n"
     ]
    },
    {
     "name": "stderr",
     "output_type": "stream",
     "text": [
      "Operator `Kernel` run in 0.01 s\n"
     ]
    },
    {
     "name": "stdout",
     "output_type": "stream",
     "text": [
      "nx = 16\n"
     ]
    },
    {
     "name": "stderr",
     "output_type": "stream",
     "text": [
      "Operator `Kernel` run in 0.01 s\n"
     ]
    },
    {
     "name": "stdout",
     "output_type": "stream",
     "text": [
      "nx = 32\n"
     ]
    },
    {
     "name": "stderr",
     "output_type": "stream",
     "text": [
      "Operator `Kernel` run in 0.01 s\n"
     ]
    },
    {
     "name": "stdout",
     "output_type": "stream",
     "text": [
      "nx = 64\n"
     ]
    },
    {
     "name": "stderr",
     "output_type": "stream",
     "text": [
      "Operator `Kernel` run in 0.01 s\n"
     ]
    },
    {
     "name": "stdout",
     "output_type": "stream",
     "text": [
      "nx = 128\n"
     ]
    },
    {
     "name": "stderr",
     "output_type": "stream",
     "text": [
      "Operator `Kernel` run in 0.04 s\n"
     ]
    },
    {
     "name": "stdout",
     "output_type": "stream",
     "text": [
      "nx = 256\n"
     ]
    },
    {
     "name": "stderr",
     "output_type": "stream",
     "text": [
      "Operator `Kernel` run in 0.31 s\n"
     ]
    },
    {
     "name": "stdout",
     "output_type": "stream",
     "text": [
      "nx = 512\n"
     ]
    },
    {
     "name": "stderr",
     "output_type": "stream",
     "text": [
      "Operator `Kernel` run in 2.50 s\n"
     ]
    }
   ],
   "source": [
    "time_np = []\n",
    "time_devito = []\n",
    "time_gt4py = []\n",
    "\n",
    "for nx in x:\n",
    "    print(f'nx = {nx}')    \n",
    "    timing = benchmark(nx)\n",
    "    time_np.append(timing[0])\n",
    "    time_devito.append(timing[1])\n",
    "    time_gt4py.append(timing[2])  "
   ]
  },
  {
   "cell_type": "code",
   "execution_count": 13,
   "metadata": {},
   "outputs": [
    {
     "name": "stdout",
     "output_type": "stream",
     "text": [
      "nx = 8\n"
     ]
    },
    {
     "name": "stderr",
     "output_type": "stream",
     "text": [
      "Operator `Kernel` run in 0.02 s\n"
     ]
    },
    {
     "name": "stdout",
     "output_type": "stream",
     "text": [
      "nx = 16\n"
     ]
    },
    {
     "name": "stderr",
     "output_type": "stream",
     "text": [
      "Operator `Kernel` run in 0.02 s\n"
     ]
    },
    {
     "name": "stdout",
     "output_type": "stream",
     "text": [
      "nx = 32\n"
     ]
    },
    {
     "name": "stderr",
     "output_type": "stream",
     "text": [
      "Operator `Kernel` run in 0.02 s\n"
     ]
    },
    {
     "name": "stdout",
     "output_type": "stream",
     "text": [
      "nx = 64\n"
     ]
    },
    {
     "name": "stderr",
     "output_type": "stream",
     "text": [
      "Operator `Kernel` run in 0.02 s\n"
     ]
    },
    {
     "name": "stdout",
     "output_type": "stream",
     "text": [
      "nx = 128\n"
     ]
    },
    {
     "name": "stderr",
     "output_type": "stream",
     "text": [
      "Operator `Kernel` run in 0.03 s\n"
     ]
    },
    {
     "name": "stdout",
     "output_type": "stream",
     "text": [
      "nx = 256\n"
     ]
    },
    {
     "name": "stderr",
     "output_type": "stream",
     "text": [
      "Operator `Kernel` run in 0.14 s\n"
     ]
    },
    {
     "name": "stdout",
     "output_type": "stream",
     "text": [
      "nx = 512\n"
     ]
    },
    {
     "name": "stderr",
     "output_type": "stream",
     "text": [
      "Operator `Kernel` run in 0.91 s\n"
     ]
    }
   ],
   "source": [
    "time_cp = []\n",
    "time_devito_gpu = []\n",
    "time_gt4py_gpu = []\n",
    "\n",
    "for nx in x:\n",
    "    print(f'nx = {nx}')    \n",
    "    timing_gpu = benchmark(nx, gpu=True)\n",
    "    time_cp.append(timing_gpu[0])\n",
    "    time_devito_gpu.append(timing_gpu[1])\n",
    "    time_gt4py_gpu.append(timing_gpu[2]) "
   ]
  },
  {
   "cell_type": "code",
   "execution_count": 14,
   "metadata": {},
   "outputs": [
    {
     "data": {
      "text/plain": [
       "<matplotlib.legend.Legend at 0x2aab63701240>"
      ]
     },
     "execution_count": 14,
     "metadata": {},
     "output_type": "execute_result"
    },
    {
     "data": {
      "image/png": "[encoded data removed]",
      "text/plain": [
       "<Figure size 720x432 with 1 Axes>"
      ]
     },
     "metadata": {
      "needs_background": "light"
     },
     "output_type": "display_data"
    }
   ],
   "source": [
    "fig,ax = plt.subplots(figsize=(10,6))\n",
    "ax.tick_params(direction='in')\n",
    "ax.set(xlabel='grid size', ylabel='time [s]',\n",
    "       title='timing 3d heat equation on CPU')\n",
    "ax.set_xscale('log', basex=2)\n",
    "plt.plot(x, time_np, label='numpy')\n",
    "plt.plot(x, time_devito, label='devito')\n",
    "plt.plot(x, time_gt4py, label='gt4py')\n",
    "ax.legend()"
   ]
  },
  {
   "cell_type": "code",
   "execution_count": 15,
   "metadata": {},
   "outputs": [
    {
     "data": {
      "text/plain": [
       "<matplotlib.legend.Legend at 0x2aab63a69748>"
      ]
     },
     "execution_count": 15,
     "metadata": {},
     "output_type": "execute_result"
    },
    {
     "data": {
      "image/png": "[encoded data removed]",
      "text/plain": [
       "<Figure size 720x432 with 1 Axes>"
      ]
     },
     "metadata": {
      "needs_background": "light"
     },
     "output_type": "display_data"
    }
   ],
   "source": [
    "fig,ax = plt.subplots(figsize=(10,6))\n",
    "ax.tick_params(direction='in')\n",
    "ax.set(xlabel='grid size', ylabel='time [s]',\n",
    "       title='timing 3d heat equation on GPU')\n",
    "ax.set_xscale('log', basex=2)\n",
    "plt.plot(x, time_cp, label='cupy')\n",
    "plt.plot(x, time_devito_gpu, label='devito_gpu')\n",
    "plt.plot(x, time_gt4py_gpu, label='gt4py_gpu')\n",
    "plt.plot(x, time_gt4py, label='gt4py_cpu')\n",
    "ax.legend()"
   ]
  },
  {
   "cell_type": "code",
   "execution_count": null,
   "metadata": {},
   "outputs": [],
   "source": []
  }
 ],
 "metadata": {
  "kernelspec": {
   "display_name": "HPC4WC_kernel",
   "language": "python",
   "name": "hpc4wc_kernel"
  },
  "language_info": {
   "codemirror_mode": {
    "name": "ipython",
    "version": 3
   },
   "file_extension": ".py",
   "mimetype": "text/x-python",
   "name": "python",
   "nbconvert_exporter": "python",
   "pygments_lexer": "ipython3",
   "version": "3.6.5"
  }
 },
 "nbformat": 4,
 "nbformat_minor": 4
}
